{
 "cells": [
  {
   "cell_type": "code",
   "execution_count": null,
   "metadata": {},
   "outputs": [],
   "source": [
    "# importing libraries\n",
    "import pandas as pd \n",
    "import numpy as np \n",
    "import matplotlib.pyplot as plt\n",
    "import seaborn as sns \n",
    "from sklearn.model_selection import train_test_split\n",
    "from sklearn.linear_model import LinearRegression\n",
    "from sklearn.metrics import mean_squared_error, r2_score\n",
    "sns.set()"
   ]
  },
  {
   "cell_type": "code",
   "execution_count": 83,
   "metadata": {},
   "outputs": [],
   "source": [
    "sns.set()"
   ]
  },
  {
   "cell_type": "code",
   "execution_count": 2,
   "metadata": {},
   "outputs": [],
   "source": [
    "# loading syrvey data and descriptive schema \n",
    "df = pd.read_csv('..\\Data\\survey-results-public.csv')\n",
    "schema = pd.read_csv('..\\Data\\survey-results-schema.csv')"
   ]
  },
  {
   "cell_type": "markdown",
   "metadata": {},
   "source": [
    "#### 1. How to break into the field ?\n",
    "- Analyzing the most common ways for breaking into data science fields "
   ]
  },
  {
   "cell_type": "code",
   "execution_count": 3,
   "metadata": {},
   "outputs": [],
   "source": [
    "df['CousinEducationList'] = df['CousinEducation'].str.split(';')\n",
    "df_exploded =df.explode('CousinEducationList') \n",
    "df_exploded['CousinEducationList'] = df_exploded['CousinEducationList'].explode().str.replace(' ', '')\n"
   ]
  },
  {
   "cell_type": "code",
   "execution_count": 5,
   "metadata": {},
   "outputs": [],
   "source": [
    "# df_exploded['CousinEducationList'].value_counts()"
   ]
  },
  {
   "cell_type": "code",
   "execution_count": null,
   "metadata": {},
   "outputs": [],
   "source": [
    "sns.set()\n",
    "# df['CousinEducationList'] = df['CousinEducation'].str.split(';')\n",
    "# df_exploded['CousinEducationList_exploded'] = df['CousinEducationList'].explode().str.replace(' ', '')\n",
    "plt.figure(figsize=(8,5))\n",
    "(df['CousinEducationList'].explode().str.replace(' ', '').value_counts(normalize=True)*100).plot(kind = 'bar' )"
   ]
  },
  {
   "cell_type": "code",
   "execution_count": null,
   "metadata": {},
   "outputs": [],
   "source": [
    "def get_description(column_name, schema=schema):\n",
    "    '''\n",
    "    INPUT - schema - pandas dataframe with the schema of the developers survey\n",
    "            column_name - string - the name of the column you would like to know about\n",
    "    OUTPUT - \n",
    "            desc - string - the description of the column\n",
    "    '''\n",
    "    try: \n",
    "        desc =  schema[schema['Column']== column_name]['Question'].values[0]\n",
    "    except: \n",
    "        print(column_name + ' is not found in schema!')\n",
    "    return desc"
   ]
  },
  {
   "cell_type": "markdown",
   "metadata": {},
   "source": [
    "#### 2.0 Analyzing Bootcamp grads in terms of job placements and Salary"
   ]
  },
  {
   "cell_type": "code",
   "execution_count": null,
   "metadata": {},
   "outputs": [],
   "source": [
    "# df_bootcamp = df_exploded[df_exploded['CousinEducationList']=='Bootcamp']\n",
    "sum(df_bootcamp['Gender'].isnull())"
   ]
  },
  {
   "cell_type": "code",
   "execution_count": null,
   "metadata": {},
   "outputs": [],
   "source": [
    "df_bootcamp  = df[df['TimeAfterBootcamp'].isnull()==False]\n",
    "df_not_bootcamp  = df[df['TimeAfterBootcamp'].isnull()==True]\n",
    "(df_bootcamp['Gender'].value_counts()/(df_bootcamp.shape[0] - sum(df_bootcamp['Gender'].isnull()))).sort_values().plot(kind = 'barh')"
   ]
  },
  {
   "cell_type": "code",
   "execution_count": null,
   "metadata": {},
   "outputs": [],
   "source": [
    "df_bootcamp['TimeAfterBootcamp'].value_counts()/(df_bootcamp.shape[0] - sum(df_bootcamp['TimeAfterBootcamp'].isnull()))"
   ]
  },
  {
   "cell_type": "code",
   "execution_count": 85,
   "metadata": {},
   "outputs": [
    {
     "ename": "NameError",
     "evalue": "name 'df_bootcamp' is not defined",
     "output_type": "error",
     "traceback": [
      "\u001b[1;31m---------------------------------------------------------------------------\u001b[0m",
      "\u001b[1;31mNameError\u001b[0m                                 Traceback (most recent call last)",
      "\u001b[1;32m<ipython-input-85-43b39f19113e>\u001b[0m in \u001b[0;36m<module>\u001b[1;34m\u001b[0m\n\u001b[1;32m----> 1\u001b[1;33m \u001b[0mdf_bootcamp\u001b[0m\u001b[1;33m[\u001b[0m\u001b[1;34m'Salary'\u001b[0m\u001b[1;33m]\u001b[0m\u001b[1;33m.\u001b[0m\u001b[0mplot\u001b[0m\u001b[1;33m(\u001b[0m\u001b[0mkind\u001b[0m \u001b[1;33m=\u001b[0m \u001b[1;34m'hist'\u001b[0m\u001b[1;33m)\u001b[0m\u001b[1;33m\u001b[0m\u001b[1;33m\u001b[0m\u001b[0m\n\u001b[0m",
      "\u001b[1;31mNameError\u001b[0m: name 'df_bootcamp' is not defined"
     ]
    }
   ],
   "source": [
    "df_bootcamp['Salary'].plot(kind = 'hist')"
   ]
  },
  {
   "cell_type": "markdown",
   "metadata": {},
   "source": [
    "#### 3.0 Analyzing Job Satisfaction "
   ]
  },
  {
   "cell_type": "code",
   "execution_count": null,
   "metadata": {},
   "outputs": [],
   "source": [
    "df.groupby('EmploymentStatus').mean()['JobSatisfaction']"
   ]
  },
  {
   "cell_type": "code",
   "execution_count": null,
   "metadata": {},
   "outputs": [],
   "source": [
    "plt.figure()\n",
    "df.groupby('CompanySize').mean()['JobSatisfaction'].sort_values().plot(kind = 'barh')"
   ]
  },
  {
   "cell_type": "code",
   "execution_count": null,
   "metadata": {},
   "outputs": [],
   "source": [
    "df.groupby(['ProgramHobby']).mean()['JobSatisfaction'].sort_values().dropna().plot(kind = 'barh')"
   ]
  },
  {
   "cell_type": "code",
   "execution_count": null,
   "metadata": {},
   "outputs": [],
   "source": [
    "df.groupby(['HomeRemote']).mean()['JobSatisfaction'].sort_values().dropna().plot(kind = 'barh').plot(kind = 'barh')"
   ]
  },
  {
   "cell_type": "code",
   "execution_count": 84,
   "metadata": {},
   "outputs": [
    {
     "data": {
      "text/plain": [
       "<matplotlib.axes._subplots.AxesSubplot at 0x1daa0877388>"
      ]
     },
     "execution_count": 84,
     "metadata": {},
     "output_type": "execute_result"
    },
    {
     "data": {
      "image/png": "[encoded data removed]",
      "text/plain": [
       "<Figure size 432x288 with 1 Axes>"
      ]
     },
     "metadata": {},
     "output_type": "display_data"
    }
   ],
   "source": [
    "res = df.groupby(['FormalEducation']).mean()['JobSatisfaction'].sort_values().dropna()\n",
    "res.dropna().plot(kind = 'barh')"
   ]
  },
  {
   "cell_type": "markdown",
   "metadata": {},
   "source": [
    "#### 4.0 Predicting Salary \n"
   ]
  },
  {
   "cell_type": "code",
   "execution_count": null,
   "metadata": {},
   "outputs": [],
   "source": [
    "# calculating how many columns have missing values \n",
    "df.isnull().sum()/df.shape[0]*100"
   ]
  },
  {
   "cell_type": "code",
   "execution_count": null,
   "metadata": {},
   "outputs": [],
   "source": [
    "df.hist(); "
   ]
  },
  {
   "cell_type": "code",
   "execution_count": null,
   "metadata": {},
   "outputs": [],
   "source": [
    "sns.heatmap(df.corr(), annot=True, fmt='.2f');"
   ]
  },
  {
   "cell_type": "code",
   "execution_count": null,
   "metadata": {},
   "outputs": [],
   "source": [
    "cols_num = ['CareerSatisfaction', 'HoursPerWeek', 'JobSatisfaction', 'StackOverflowSatisfaction']\n",
    "df_num = df[cols_num]\n",
    "df_num = df_num.fillna(df_num.mean())\n",
    "df_num.head()"
   ]
  },
  {
   "cell_type": "markdown",
   "metadata": {},
   "source": [
    "#### 4.1 Evaluating Numerical Variables \n"
   ]
  },
  {
   "cell_type": "code",
   "execution_count": 16,
   "metadata": {},
   "outputs": [],
   "source": [
    "# df_exploded = df_exploded.dropna(subset  = ['Salary'], axis = 0)\n",
    "# excl_cols = list(df_exploded.columns[df_exploded.isnull().sum()/df_exploded.shape[0]*100> 50])\n",
    "# cols  = [ x for x in list(df_exploded.columns) if x not in excl_cols  ]\n",
    "# df_exploded = df_exploded[cols]\n",
    "num_cols = df_exploded.select_dtypes(include = ['float', 'int']).columns \n",
    "X_num = df_exploded[num_cols].drop('Salary', axis = 1)\n",
    "X_num = X_num.fillna(X_num.mean())\n",
    "cat_cols = df_exploded.select_dtypes(include = ['object']).columns\n",
    "X_cat = df_exploded[cat_cols]\n",
    "X_cat = X_cat.fillna(X_cat.mode())\n",
    "# cat_cols"
   ]
  },
  {
   "cell_type": "code",
   "execution_count": 19,
   "metadata": {},
   "outputs": [],
   "source": [
    "X = pd.concat([X_num, X_cat], axis = 1)"
   ]
  },
  {
   "cell_type": "code",
   "execution_count": 21,
   "metadata": {},
   "outputs": [],
   "source": [
    "# X_ = pd.get_dummies(X, prefix_sep='_', drop_first=True)\n",
    "# X_.head()\n",
    "y = df_exploded['Salary']"
   ]
  },
  {
   "cell_type": "markdown",
   "metadata": {},
   "source": [
    "#### 4.3 Training and Evaluating Model"
   ]
  },
  {
   "cell_type": "code",
   "execution_count": 79,
   "metadata": {},
   "outputs": [],
   "source": [
    "def evaluate_model(X_, y_):\n",
    "    feat_size = X_.shape[0]\n",
    "    r2_train = []\n",
    "    r2_test  = []\n",
    "    models   = []\n",
    "    for size in feat_size: \n",
    "        X_train, X_test, y_train, y_test = train_test_split(X_[X_.columns[:size]], y, test_size = .30, random_state=42)\n",
    "\n",
    "        #Instantiate\n",
    "        lm_model = LinearRegression(normalize=True) \n",
    "        #Fit - why does this break?\n",
    "        lm_model.fit(X_train, y_train) \n",
    "        y_predicted_train = lm_model.predict(X_train)\n",
    "        y_predicted_test  = lm_model.predict(X_test)\n",
    "        r2_train.append(r2_score(y_train, y_predicted_train))\n",
    "        r2_test.append(r2_score(y_test, y_predicted_test))\n",
    "    \n",
    "    return feat_size, r2_train, r2_test"
   ]
  },
  {
   "cell_type": "code",
   "execution_count": 80,
   "metadata": {},
   "outputs": [
    {
     "ename": "TypeError",
     "evalue": "'int' object is not iterable",
     "output_type": "error",
     "traceback": [
      "\u001b[1;31m---------------------------------------------------------------------------\u001b[0m",
      "\u001b[1;31mTypeError\u001b[0m                                 Traceback (most recent call last)",
      "\u001b[1;32m<ipython-input-80-3b5106f3671e>\u001b[0m in \u001b[0;36m<module>\u001b[1;34m\u001b[0m\n\u001b[1;32m----> 1\u001b[1;33m \u001b[0mfeat_size\u001b[0m\u001b[1;33m,\u001b[0m \u001b[0mr2_train\u001b[0m\u001b[1;33m,\u001b[0m \u001b[0mr2_test\u001b[0m \u001b[1;33m=\u001b[0m \u001b[0mevaluate_model\u001b[0m\u001b[1;33m(\u001b[0m\u001b[0mX_\u001b[0m\u001b[1;33m[\u001b[0m\u001b[0mX_\u001b[0m\u001b[1;33m.\u001b[0m\u001b[0mcolumns\u001b[0m\u001b[1;33m[\u001b[0m\u001b[1;33m:\u001b[0m\u001b[1;36m3\u001b[0m\u001b[1;33m]\u001b[0m\u001b[1;33m]\u001b[0m\u001b[1;33m,\u001b[0m \u001b[0my\u001b[0m\u001b[1;33m)\u001b[0m\u001b[1;33m\u001b[0m\u001b[1;33m\u001b[0m\u001b[0m\n\u001b[0m",
      "\u001b[1;32m<ipython-input-79-73e53cb6352d>\u001b[0m in \u001b[0;36mevaluate_model\u001b[1;34m(X_, y_)\u001b[0m\n\u001b[0;32m      4\u001b[0m     \u001b[0mr2_test\u001b[0m  \u001b[1;33m=\u001b[0m \u001b[1;33m[\u001b[0m\u001b[1;33m]\u001b[0m\u001b[1;33m\u001b[0m\u001b[1;33m\u001b[0m\u001b[0m\n\u001b[0;32m      5\u001b[0m     \u001b[0mmodels\u001b[0m   \u001b[1;33m=\u001b[0m \u001b[1;33m[\u001b[0m\u001b[1;33m]\u001b[0m\u001b[1;33m\u001b[0m\u001b[1;33m\u001b[0m\u001b[0m\n\u001b[1;32m----> 6\u001b[1;33m     \u001b[1;32mfor\u001b[0m \u001b[0msize\u001b[0m \u001b[1;32min\u001b[0m \u001b[0mfeat_size\u001b[0m\u001b[1;33m:\u001b[0m\u001b[1;33m\u001b[0m\u001b[1;33m\u001b[0m\u001b[0m\n\u001b[0m\u001b[0;32m      7\u001b[0m         \u001b[0mX_train\u001b[0m\u001b[1;33m,\u001b[0m \u001b[0mX_test\u001b[0m\u001b[1;33m,\u001b[0m \u001b[0my_train\u001b[0m\u001b[1;33m,\u001b[0m \u001b[0my_test\u001b[0m \u001b[1;33m=\u001b[0m \u001b[0mtrain_test_split\u001b[0m\u001b[1;33m(\u001b[0m\u001b[0mX_\u001b[0m\u001b[1;33m[\u001b[0m\u001b[0mX_\u001b[0m\u001b[1;33m.\u001b[0m\u001b[0mcolumns\u001b[0m\u001b[1;33m[\u001b[0m\u001b[1;33m:\u001b[0m\u001b[0msize\u001b[0m\u001b[1;33m]\u001b[0m\u001b[1;33m]\u001b[0m\u001b[1;33m,\u001b[0m \u001b[0my\u001b[0m\u001b[1;33m,\u001b[0m \u001b[0mtest_size\u001b[0m \u001b[1;33m=\u001b[0m \u001b[1;36m.30\u001b[0m\u001b[1;33m,\u001b[0m \u001b[0mrandom_state\u001b[0m\u001b[1;33m=\u001b[0m\u001b[1;36m42\u001b[0m\u001b[1;33m)\u001b[0m\u001b[1;33m\u001b[0m\u001b[1;33m\u001b[0m\u001b[0m\n\u001b[0;32m      8\u001b[0m \u001b[1;33m\u001b[0m\u001b[0m\n",
      "\u001b[1;31mTypeError\u001b[0m: 'int' object is not iterable"
     ]
    }
   ],
   "source": [
    "feat_size, r2_train, r2_test = evaluate_model(X_[X_.columns[:3]], y)"
   ]
  },
  {
   "cell_type": "code",
   "execution_count": 75,
   "metadata": {},
   "outputs": [
    {
     "data": {
      "text/html": [
       "<div>\n",
       "<style scoped>\n",
       "    .dataframe tbody tr th:only-of-type {\n",
       "        vertical-align: middle;\n",
       "    }\n",
       "\n",
       "    .dataframe tbody tr th {\n",
       "        vertical-align: top;\n",
       "    }\n",
       "\n",
       "    .dataframe thead th {\n",
       "        text-align: right;\n",
       "    }\n",
       "</style>\n",
       "<table border=\"1\" class=\"dataframe\">\n",
       "  <thead>\n",
       "    <tr style=\"text-align: right;\">\n",
       "      <th></th>\n",
       "      <th>CareerSatisfaction</th>\n",
       "      <th>JobSatisfaction</th>\n",
       "      <th>StackOverflowSatisfaction</th>\n",
       "      <th>ProgramHobby_Yes, I contribute to open source projects</th>\n",
       "      <th>ProgramHobby_Yes, I program as a hobby</th>\n",
       "      <th>ProgramHobby_Yes, both</th>\n",
       "      <th>Country_Albania</th>\n",
       "      <th>Country_Anguilla</th>\n",
       "      <th>Country_Argentina</th>\n",
       "      <th>Country_Armenia</th>\n",
       "      <th>...</th>\n",
       "      <th>DeveloperType_Developer with a statistics or mathematics background; Data scientist; Database administrator</th>\n",
       "      <th>DeveloperType_Developer with a statistics or mathematics background; Data scientist; Database administrator; Other</th>\n",
       "      <th>DeveloperType_Developer with a statistics or mathematics background; Data scientist; Database administrator; Systems administrator; DevOps specialist</th>\n",
       "      <th>DeveloperType_Developer with a statistics or mathematics background; Data scientist; Desktop applications developer</th>\n",
       "      <th>DeveloperType_Developer with a statistics or mathematics background; Data scientist; Desktop applications developer; Database administrator</th>\n",
       "      <th>DeveloperType_Developer with a statistics or mathematics background; Data scientist; Desktop applications developer; Database administrator; Systems administrator</th>\n",
       "      <th>DeveloperType_Developer with a statistics or mathematics background; Data scientist; Desktop applications developer; Database administrator; Systems administrator; DevOps specialist</th>\n",
       "      <th>DeveloperType_Developer with a statistics or mathematics background; Data scientist; Desktop applications developer; Database administrator; Systems administrator; Quality assurance engineer</th>\n",
       "      <th>DeveloperType_Developer with a statistics or mathematics background; Data scientist; Desktop applications developer; Other</th>\n",
       "      <th>DeveloperType_Developer with a statistics or mathematics background; Data scientist; Desktop applications developer; Systems administrator</th>\n",
       "    </tr>\n",
       "  </thead>\n",
       "  <tbody>\n",
       "    <tr>\n",
       "      <th>2</th>\n",
       "      <td>8.0</td>\n",
       "      <td>9.0</td>\n",
       "      <td>8.000000</td>\n",
       "      <td>0</td>\n",
       "      <td>0</td>\n",
       "      <td>1</td>\n",
       "      <td>0</td>\n",
       "      <td>0</td>\n",
       "      <td>0</td>\n",
       "      <td>0</td>\n",
       "      <td>...</td>\n",
       "      <td>0</td>\n",
       "      <td>0</td>\n",
       "      <td>0</td>\n",
       "      <td>0</td>\n",
       "      <td>0</td>\n",
       "      <td>0</td>\n",
       "      <td>0</td>\n",
       "      <td>0</td>\n",
       "      <td>0</td>\n",
       "      <td>0</td>\n",
       "    </tr>\n",
       "    <tr>\n",
       "      <th>14</th>\n",
       "      <td>8.0</td>\n",
       "      <td>8.0</td>\n",
       "      <td>8.000000</td>\n",
       "      <td>0</td>\n",
       "      <td>1</td>\n",
       "      <td>0</td>\n",
       "      <td>0</td>\n",
       "      <td>0</td>\n",
       "      <td>0</td>\n",
       "      <td>0</td>\n",
       "      <td>...</td>\n",
       "      <td>0</td>\n",
       "      <td>0</td>\n",
       "      <td>0</td>\n",
       "      <td>0</td>\n",
       "      <td>0</td>\n",
       "      <td>0</td>\n",
       "      <td>0</td>\n",
       "      <td>0</td>\n",
       "      <td>0</td>\n",
       "      <td>0</td>\n",
       "    </tr>\n",
       "    <tr>\n",
       "      <th>17</th>\n",
       "      <td>9.0</td>\n",
       "      <td>8.0</td>\n",
       "      <td>8.000000</td>\n",
       "      <td>0</td>\n",
       "      <td>0</td>\n",
       "      <td>1</td>\n",
       "      <td>0</td>\n",
       "      <td>0</td>\n",
       "      <td>0</td>\n",
       "      <td>0</td>\n",
       "      <td>...</td>\n",
       "      <td>0</td>\n",
       "      <td>0</td>\n",
       "      <td>0</td>\n",
       "      <td>0</td>\n",
       "      <td>0</td>\n",
       "      <td>0</td>\n",
       "      <td>0</td>\n",
       "      <td>0</td>\n",
       "      <td>0</td>\n",
       "      <td>0</td>\n",
       "    </tr>\n",
       "    <tr>\n",
       "      <th>18</th>\n",
       "      <td>5.0</td>\n",
       "      <td>3.0</td>\n",
       "      <td>8.527079</td>\n",
       "      <td>0</td>\n",
       "      <td>1</td>\n",
       "      <td>0</td>\n",
       "      <td>0</td>\n",
       "      <td>0</td>\n",
       "      <td>0</td>\n",
       "      <td>0</td>\n",
       "      <td>...</td>\n",
       "      <td>0</td>\n",
       "      <td>0</td>\n",
       "      <td>0</td>\n",
       "      <td>0</td>\n",
       "      <td>0</td>\n",
       "      <td>0</td>\n",
       "      <td>0</td>\n",
       "      <td>0</td>\n",
       "      <td>0</td>\n",
       "      <td>0</td>\n",
       "    </tr>\n",
       "    <tr>\n",
       "      <th>18</th>\n",
       "      <td>5.0</td>\n",
       "      <td>3.0</td>\n",
       "      <td>8.527079</td>\n",
       "      <td>0</td>\n",
       "      <td>1</td>\n",
       "      <td>0</td>\n",
       "      <td>0</td>\n",
       "      <td>0</td>\n",
       "      <td>0</td>\n",
       "      <td>0</td>\n",
       "      <td>...</td>\n",
       "      <td>0</td>\n",
       "      <td>0</td>\n",
       "      <td>0</td>\n",
       "      <td>0</td>\n",
       "      <td>0</td>\n",
       "      <td>0</td>\n",
       "      <td>0</td>\n",
       "      <td>0</td>\n",
       "      <td>0</td>\n",
       "      <td>0</td>\n",
       "    </tr>\n",
       "  </tbody>\n",
       "</table>\n",
       "<p>5 rows × 300 columns</p>\n",
       "</div>"
      ],
      "text/plain": [
       "    CareerSatisfaction  JobSatisfaction  StackOverflowSatisfaction  \\\n",
       "2                  8.0              9.0                   8.000000   \n",
       "14                 8.0              8.0                   8.000000   \n",
       "17                 9.0              8.0                   8.000000   \n",
       "18                 5.0              3.0                   8.527079   \n",
       "18                 5.0              3.0                   8.527079   \n",
       "\n",
       "    ProgramHobby_Yes, I contribute to open source projects  \\\n",
       "2                                                   0        \n",
       "14                                                  0        \n",
       "17                                                  0        \n",
       "18                                                  0        \n",
       "18                                                  0        \n",
       "\n",
       "    ProgramHobby_Yes, I program as a hobby  ProgramHobby_Yes, both  \\\n",
       "2                                        0                       1   \n",
       "14                                       1                       0   \n",
       "17                                       0                       1   \n",
       "18                                       1                       0   \n",
       "18                                       1                       0   \n",
       "\n",
       "    Country_Albania  Country_Anguilla  Country_Argentina  Country_Armenia  \\\n",
       "2                 0                 0                  0                0   \n",
       "14                0                 0                  0                0   \n",
       "17                0                 0                  0                0   \n",
       "18                0                 0                  0                0   \n",
       "18                0                 0                  0                0   \n",
       "\n",
       "    ...  \\\n",
       "2   ...   \n",
       "14  ...   \n",
       "17  ...   \n",
       "18  ...   \n",
       "18  ...   \n",
       "\n",
       "    DeveloperType_Developer with a statistics or mathematics background; Data scientist; Database administrator  \\\n",
       "2                                                   0                                                             \n",
       "14                                                  0                                                             \n",
       "17                                                  0                                                             \n",
       "18                                                  0                                                             \n",
       "18                                                  0                                                             \n",
       "\n",
       "    DeveloperType_Developer with a statistics or mathematics background; Data scientist; Database administrator; Other  \\\n",
       "2                                                   0                                                                    \n",
       "14                                                  0                                                                    \n",
       "17                                                  0                                                                    \n",
       "18                                                  0                                                                    \n",
       "18                                                  0                                                                    \n",
       "\n",
       "    DeveloperType_Developer with a statistics or mathematics background; Data scientist; Database administrator; Systems administrator; DevOps specialist  \\\n",
       "2                                                   0                                                                                                       \n",
       "14                                                  0                                                                                                       \n",
       "17                                                  0                                                                                                       \n",
       "18                                                  0                                                                                                       \n",
       "18                                                  0                                                                                                       \n",
       "\n",
       "    DeveloperType_Developer with a statistics or mathematics background; Data scientist; Desktop applications developer  \\\n",
       "2                                                   0                                                                     \n",
       "14                                                  0                                                                     \n",
       "17                                                  0                                                                     \n",
       "18                                                  0                                                                     \n",
       "18                                                  0                                                                     \n",
       "\n",
       "    DeveloperType_Developer with a statistics or mathematics background; Data scientist; Desktop applications developer; Database administrator  \\\n",
       "2                                                   0                                                                                             \n",
       "14                                                  0                                                                                             \n",
       "17                                                  0                                                                                             \n",
       "18                                                  0                                                                                             \n",
       "18                                                  0                                                                                             \n",
       "\n",
       "    DeveloperType_Developer with a statistics or mathematics background; Data scientist; Desktop applications developer; Database administrator; Systems administrator  \\\n",
       "2                                                   0                                                                                                                    \n",
       "14                                                  0                                                                                                                    \n",
       "17                                                  0                                                                                                                    \n",
       "18                                                  0                                                                                                                    \n",
       "18                                                  0                                                                                                                    \n",
       "\n",
       "    DeveloperType_Developer with a statistics or mathematics background; Data scientist; Desktop applications developer; Database administrator; Systems administrator; DevOps specialist  \\\n",
       "2                                                   0                                                                                                                                       \n",
       "14                                                  0                                                                                                                                       \n",
       "17                                                  0                                                                                                                                       \n",
       "18                                                  0                                                                                                                                       \n",
       "18                                                  0                                                                                                                                       \n",
       "\n",
       "    DeveloperType_Developer with a statistics or mathematics background; Data scientist; Desktop applications developer; Database administrator; Systems administrator; Quality assurance engineer  \\\n",
       "2                                                   0                                                                                                                                                \n",
       "14                                                  0                                                                                                                                                \n",
       "17                                                  0                                                                                                                                                \n",
       "18                                                  0                                                                                                                                                \n",
       "18                                                  0                                                                                                                                                \n",
       "\n",
       "    DeveloperType_Developer with a statistics or mathematics background; Data scientist; Desktop applications developer; Other  \\\n",
       "2                                                   0                                                                            \n",
       "14                                                  0                                                                            \n",
       "17                                                  0                                                                            \n",
       "18                                                  0                                                                            \n",
       "18                                                  0                                                                            \n",
       "\n",
       "    DeveloperType_Developer with a statistics or mathematics background; Data scientist; Desktop applications developer; Systems administrator  \n",
       "2                                                   0                                                                                           \n",
       "14                                                  0                                                                                           \n",
       "17                                                  0                                                                                           \n",
       "18                                                  0                                                                                           \n",
       "18                                                  0                                                                                           \n",
       "\n",
       "[5 rows x 300 columns]"
      ]
     },
     "execution_count": 75,
     "metadata": {},
     "output_type": "execute_result"
    }
   ],
   "source": [
    "X_[X_.columns[:300]].head()"
   ]
  },
  {
   "cell_type": "code",
   "execution_count": 81,
   "metadata": {},
   "outputs": [
    {
     "data": {
      "text/plain": [
       "[<matplotlib.lines.Line2D at 0x1daa0553b08>]"
      ]
     },
     "execution_count": 81,
     "metadata": {},
     "output_type": "execute_result"
    },
    {
     "data": {
      "image/png": "[encoded data removed]",
      "text/plain": [
       "<Figure size 432x288 with 1 Axes>"
      ]
     },
     "metadata": {
      "needs_background": "light"
     },
     "output_type": "display_data"
    }
   ],
   "source": [
    "plt.figure()\n",
    "plt.plot(feat_size, r2_train, label = 'train')\n",
    "plt.plot(feat_size, r2_test, label = 'test')\n"
   ]
  }
 ],
 "metadata": {
  "kernelspec": {
   "display_name": "Python 3",
   "language": "python",
   "name": "python3"
  },
  "language_info": {
   "codemirror_mode": {
    "name": "ipython",
    "version": 3
   },
   "file_extension": ".py",
   "mimetype": "text/x-python",
   "name": "python",
   "nbconvert_exporter": "python",
   "pygments_lexer": "ipython3",
   "version": "3.7.4"
  }
 },
 "nbformat": 4,
 "nbformat_minor": 2
}
